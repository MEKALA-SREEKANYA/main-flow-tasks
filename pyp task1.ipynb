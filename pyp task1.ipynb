{
 "cells": [
  {
   "cell_type": "code",
   "execution_count": 1,
   "id": "bec7f82c-b9fc-4972-add4-0e092c5b597e",
   "metadata": {},
   "outputs": [
    {
     "name": "stdin",
     "output_type": "stream",
     "text": [
      "Enter the first number:  5\n",
      "Enter the second number:  10\n"
     ]
    },
    {
     "name": "stdout",
     "output_type": "stream",
     "text": [
      "The sum of 5 and 10 is: 15\n"
     ]
    }
   ],
   "source": [
    "num1 = int(input(\"Enter the first number: \"))\n",
    "num2 = int(input(\"Enter the second number: \"))\n",
    "result = num1 + num2\n",
    "print(\"The sum of\", num1, \"and\", num2, \"is:\", result)"
   ]
  },
  {
   "cell_type": "code",
   "execution_count": 3,
   "id": "c7380a52-6700-45ca-a430-d6a4bf80eebd",
   "metadata": {},
   "outputs": [
    {
     "name": "stdin",
     "output_type": "stream",
     "text": [
      "Enter a number:  4\n"
     ]
    },
    {
     "name": "stdout",
     "output_type": "stream",
     "text": [
      "Even\n"
     ]
    }
   ],
   "source": [
    "number = int(input(\"Enter a number: \"))\n",
    "if number % 2 == 0:\n",
    "    print(\"Even\")\n",
    "else:\n",
    "    print(\"Odd\")"
   ]
  },
  {
   "cell_type": "code",
   "execution_count": 5,
   "id": "989a178f-12ed-4d0c-a81a-0587cdcd8510",
   "metadata": {},
   "outputs": [
    {
     "name": "stdin",
     "output_type": "stream",
     "text": [
      "Enter a number:  5\n"
     ]
    },
    {
     "name": "stdout",
     "output_type": "stream",
     "text": [
      "The factorial of 5 is: 120\n"
     ]
    }
   ],
   "source": [
    "n = int(input(\"Enter a number: \"))\n",
    "if n < 0:\n",
    "    print(\"Factorial is not defined for negative numbers.\")\n",
    "elif n == 0:\n",
    "    print(\"The factorial of 0 is: 1\")\n",
    "else:\n",
    "    factorial = 1\n",
    "    for i in range(1, n + 1):\n",
    "        factorial *= i\n",
    "    print(f\"The factorial of {n} is: {factorial}\")"
   ]
  },
  {
   "cell_type": "code",
   "execution_count": 7,
   "id": "58adfcde-1d60-40b1-9751-ea6a19e5ef29",
   "metadata": {},
   "outputs": [
    {
     "name": "stdin",
     "output_type": "stream",
     "text": [
      "Enter the number of Fibonacci numbers to generate:  7\n"
     ]
    },
    {
     "name": "stdout",
     "output_type": "stream",
     "text": [
      "Fibonacci sequence: [0, 1, 1, 2, 3, 5, 8]\n"
     ]
    }
   ],
   "source": [
    "n = int(input(\"Enter the number of Fibonacci numbers to generate: \"))\n",
    "if n <= 0:\n",
    "    print(\"Please enter a positive integer.\")\n",
    "elif n == 1:\n",
    "    print(\"Fibonacci sequence:\", [0])\n",
    "else:\n",
    "    fibonacci_sequence = [0, 1]\n",
    "    for i in range(2, n):\n",
    "        next_term = fibonacci_sequence[-1] + fibonacci_sequence[-2]\n",
    "        fibonacci_sequence.append(next_term)\n",
    "    print(\"Fibonacci sequence:\", fibonacci_sequence)"
   ]
  },
  {
   "cell_type": "code",
   "execution_count": 9,
   "id": "4b2fb577-f68b-4b38-8bec-db303f6cc4fc",
   "metadata": {},
   "outputs": [
    {
     "name": "stdin",
     "output_type": "stream",
     "text": [
      "Enter a string:  \"hello\"\n"
     ]
    },
    {
     "name": "stdout",
     "output_type": "stream",
     "text": [
      "Reversed string: \"olleh\"\n"
     ]
    }
   ],
   "source": [
    "input_string = input(\"Enter a string: \")\n",
    "reversed_string = input_string[::-1]\n",
    "print(\"Reversed string:\", reversed_string)"
   ]
  },
  {
   "cell_type": "code",
   "execution_count": 11,
   "id": "7253b194-dc0c-4802-8436-1d0ce71a92cf",
   "metadata": {},
   "outputs": [
    {
     "name": "stdin",
     "output_type": "stream",
     "text": [
      "Enter a string:  \"python\"\n"
     ]
    },
    {
     "name": "stdout",
     "output_type": "stream",
     "text": [
      "Is the string a palindrome? False\n"
     ]
    }
   ],
   "source": [
    "input_string = input(\"Enter a string: \")\n",
    "is_palindrome = input_string == input_string[::-1]\n",
    "print(\"Is the string a palindrome?\", is_palindrome)"
   ]
  },
  {
   "cell_type": "code",
   "execution_count": 13,
   "id": "8232ee86-0b0d-4e2e-8af2-c49da9ee72dc",
   "metadata": {},
   "outputs": [
    {
     "name": "stdin",
     "output_type": "stream",
     "text": [
      "Enter a year:  2024\n"
     ]
    },
    {
     "name": "stdout",
     "output_type": "stream",
     "text": [
      "Is the year a leap year? True\n"
     ]
    }
   ],
   "source": [
    "year = int(input(\"Enter a year: \"))\n",
    "if (year % 4 == 0 and year % 100 != 0) or (year % 400 == 0):\n",
    "    is_leap_year = True\n",
    "else:\n",
    "    is_leap_year = False\n",
    "print(\"Is the year a leap year?\", is_leap_year)"
   ]
  },
  {
   "cell_type": "code",
   "execution_count": null,
   "id": "9a3792ae-59e0-47b2-a7e1-52bfbec913c0",
   "metadata": {},
   "outputs": [],
   "source": [
    "n = int(input(\"Enter a number: \"))\n",
    "digits = str(n)  \n",
    "num_digits = len(digits)  \n",
    "sum_of_powers = sum(int(digit) ** num_digits for digit in digits)  \n",
    "is_armstrong = n == sum_of_powers  \n",
    "print(\"Is the number an Armstrong number?\", is_armstrong)"
   ]
  },
  {
   "cell_type": "code",
   "execution_count": null,
   "id": "adc1696f-ce5c-4568-9099-9c86a852b5e1",
   "metadata": {},
   "outputs": [],
   "source": []
  }
 ],
 "metadata": {
  "kernelspec": {
   "display_name": "Python 3 (ipykernel)",
   "language": "python",
   "name": "python3"
  },
  "language_info": {
   "codemirror_mode": {
    "name": "ipython",
    "version": 3
   },
   "file_extension": ".py",
   "mimetype": "text/x-python",
   "name": "python",
   "nbconvert_exporter": "python",
   "pygments_lexer": "ipython3",
   "version": "3.12.4"
  }
 },
 "nbformat": 4,
 "nbformat_minor": 5
}
